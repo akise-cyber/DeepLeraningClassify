{
  "nbformat": 4,
  "nbformat_minor": 0,
  "metadata": {
    "colab": {
      "name": "ClassificaçãoDeepLearning.ipynb",
      "provenance": [],
      "authorship_tag": "ABX9TyOLkZ2sybVfH4uOl3KIuK5C",
      "include_colab_link": true
    },
    "kernelspec": {
      "name": "python3",
      "display_name": "Python 3"
    },
    "language_info": {
      "name": "python"
    }
  },
  "cells": [
    {
      "cell_type": "markdown",
      "metadata": {
        "id": "view-in-github",
        "colab_type": "text"
      },
      "source": [
        "<a href=\"https://colab.research.google.com/github/akise-cyber/DeepLeraningClassify/blob/main/Classifica%C3%A7%C3%A3oDeepLearning.ipynb\" target=\"_parent\"><img src=\"https://colab.research.google.com/assets/colab-badge.svg\" alt=\"Open In Colab\"/></a>"
      ]
    },
    {
      "cell_type": "code",
      "metadata": {
        "id": "Tq9TV6u9_1vN"
      },
      "source": [
        " #bibliotecas\n",
        "import random\n",
        "import spacy\n",
        "import pandas as pd\n",
        "import seaborn as sns\n",
        "from spacy.util import minibatch\n",
        "from sklearn.model_selection import train_test_split\n",
        "from sklearn.metrics import accuracy_score\n",
        "from sklearn.metrics import confusion_matrix\n",
        "from matplotlib import pyplot as plt"
      ],
      "execution_count": 1,
      "outputs": []
    },
    {
      "cell_type": "code",
      "metadata": {
        "colab": {
          "base_uri": "https://localhost:8080/"
        },
        "id": "Ga-s8FBFVLx6",
        "outputId": "f5ff958e-86cb-4149-c9e7-6db0644e1a47"
      },
      "source": [
        " #Datasheet\n",
        "data_path = \"https://raw.githubusercontent.com/qodatecnologia/spam-data/main/spam-data.csv\"\n",
        "data = pd.read_csv(data_path)\n",
        "print(data.head())"
      ],
      "execution_count": 2,
      "outputs": [
        {
          "output_type": "stream",
          "text": [
            "     v1  ... Unnamed: 4\n",
            "0   ham  ...        NaN\n",
            "1   ham  ...        NaN\n",
            "2  spam  ...        NaN\n",
            "3   ham  ...        NaN\n",
            "4   ham  ...        NaN\n",
            "\n",
            "[5 rows x 5 columns]\n"
          ],
          "name": "stdout"
        }
      ]
    },
    {
      "cell_type": "code",
      "metadata": {
        "colab": {
          "base_uri": "https://localhost:8080/"
        },
        "id": "H4uqnWQeVrAp",
        "outputId": "3964a78d-f7b1-4c4d-9c70-f94331238bb6"
      },
      "source": [
        "data = pd.read_csv(data_path)\n",
        "observations = len(data.index)\n",
        "print(f\"Tamanho do Dataset: {observations}\\n\")\n",
        "print(data['v1'].value_counts())\n",
        "print()\n",
        "print(data['v1'].value_counts() / len(data.index) * 100.0)"
      ],
      "execution_count": 3,
      "outputs": [
        {
          "output_type": "stream",
          "text": [
            "Tamanho do Dataset: 5572\n",
            "\n",
            "ham     4825\n",
            "spam     747\n",
            "Name: v1, dtype: int64\n",
            "\n",
            "ham     86.593683\n",
            "spam    13.406317\n",
            "Name: v1, dtype: float64\n"
          ],
          "name": "stdout"
        }
      ]
    },
    {
      "cell_type": "code",
      "metadata": {
        "colab": {
          "base_uri": "https://localhost:8080/"
        },
        "id": "IdufFUqcV-sJ",
        "outputId": "ab26aeac-10ad-4ff2-83bb-bb43ad593691"
      },
      "source": [
        "# Criar um modelo vazio com o idioma dataset\n",
        "nlp = spacy.blank(\"en\")\n",
        "\n",
        "# Criar um classificador de texto com classes exclusivas + arquitetura \"bow\" \n",
        "text_cat = nlp.create_pipe(\n",
        "              \"textcat\",\n",
        "              config={\n",
        "                \"exclusive_classes\": True,\n",
        "                \"architecture\": \"bow\"})\n",
        "\n",
        "# Adicionar um classificador a nosso modelo vazio\n",
        "nlp.add_pipe(text_cat)\n",
        "\n",
        "# Colocar as classes\n",
        "text_cat.add_label(\"ham\")\n",
        "text_cat.add_label(\"spam\")"
      ],
      "execution_count": 4,
      "outputs": [
        {
          "output_type": "execute_result",
          "data": {
            "text/plain": [
              "1"
            ]
          },
          "metadata": {
            "tags": []
          },
          "execution_count": 4
        }
      ]
    },
    {
      "cell_type": "code",
      "metadata": {
        "id": "MOgXbn3xWmZa"
      },
      "source": [
        "x_train, x_test, y_train, y_test = train_test_split(\n",
        "      data['v2'], data['v1'], test_size=0.33, random_state=7)"
      ],
      "execution_count": 5,
      "outputs": []
    },
    {
      "cell_type": "code",
      "metadata": {
        "id": "Nl6vthO2Wqbi"
      },
      "source": [
        "train_lables = [{'cats': {'ham': label == 'ham',\n",
        "                          'spam': label == 'spam'}}  for label in y_train]\n",
        "\n",
        "test_lables = [{'cats': {'ham': label == 'ham',\n",
        "                      'spam': label == 'spam'}}  for label in y_test]\n",
        "\n",
        "# Usar spacy model data\n",
        "train_data = list(zip(x_train, train_lables))\n",
        "test_data = list(zip(x_test, test_lables))"
      ],
      "execution_count": 6,
      "outputs": []
    },
    {
      "cell_type": "code",
      "metadata": {
        "id": "rIRRir15Wurj"
      },
      "source": [
        "def train_model(model, train_data, optimizer, batch_size, epochs=10):\n",
        "    losses = {}\n",
        "    random.seed(1)\n",
        "\n",
        "    for epoch in range(epochs):\n",
        "        random.shuffle(train_data)\n",
        "\n",
        "        batches = minibatch(train_data, size=batch_size)\n",
        "        for batch in batches:\n",
        "            \n",
        "            texts, labels = zip(*batch)\n",
        "\n",
        "            model.update(texts, labels, sgd=optimizer, losses=losses)\n",
        "        print(\"Loss: {}\".format(losses['textcat']))\n",
        "\n",
        "    return losses['textcat']"
      ],
      "execution_count": 8,
      "outputs": []
    },
    {
      "cell_type": "code",
      "metadata": {
        "colab": {
          "base_uri": "https://localhost:8080/"
        },
        "id": "Gqom8xSXXHOh",
        "outputId": "79938bc1-95d4-4b6b-8372-c4a89db3d458"
      },
      "source": [
        "optimizer = nlp.begin_training()\n",
        "batch_size = 5\n",
        "epochs = 10\n",
        "\n",
        "#TRAIN\n",
        "train_model(nlp, train_data, optimizer, batch_size, epochs)"
      ],
      "execution_count": 9,
      "outputs": [
        {
          "output_type": "stream",
          "text": [
            "Loss: 3.9675071447882146\n",
            "Loss: 4.947752934833176\n",
            "Loss: 5.475570609709221\n",
            "Loss: 5.8221963234604885\n",
            "Loss: 6.054016676907645\n",
            "Loss: 6.198435771319279\n",
            "Loss: 6.297653178926925\n",
            "Loss: 6.367637058164786\n",
            "Loss: 6.424966427345702\n",
            "Loss: 6.471268548712159\n"
          ],
          "name": "stdout"
        },
        {
          "output_type": "execute_result",
          "data": {
            "text/plain": [
              "6.471268548712159"
            ]
          },
          "metadata": {
            "tags": []
          },
          "execution_count": 9
        }
      ]
    },
    {
      "cell_type": "code",
      "metadata": {
        "colab": {
          "base_uri": "https://localhost:8080/"
        },
        "id": "vhQp2qFgXcnq",
        "outputId": "340c7593-33c3-4333-da1f-af8b0846ffd7"
      },
      "source": [
        "print(train_data[0])\n",
        "sample_test = nlp(train_data[0][0])\n",
        "print(sample_test.cats)"
      ],
      "execution_count": 10,
      "outputs": [
        {
          "output_type": "stream",
          "text": [
            "('Remember all those whom i hurt during days of satanic imposter in me.need to pay a price,so be it.may destiny keep me going and as u said pray that i get the mind to get over the same.', {'cats': {'ham': True, 'spam': False}})\n",
            "{'ham': 0.9999992847442627, 'spam': 7.569625495307264e-07}\n"
          ],
          "name": "stdout"
        }
      ]
    },
    {
      "cell_type": "code",
      "metadata": {
        "id": "GAFKnpSQXkWU"
      },
      "source": [
        "def get_predictions(model, texts):\n",
        "    # Lógica e Token\n",
        "    docs = [model.tokenizer(text) for text in texts]\n",
        "\n",
        "    # textcat para verificar os scores\n",
        "    textcat = model.get_pipe('textcat')\n",
        "    scores, _ = textcat.predict(docs)\n",
        "\n",
        "    # Usar argmax para os scores mais altos\n",
        "    predicted_labels = scores.argmax(axis=1)\n",
        "    predicted_class = [textcat.labels[label] for label in predicted_labels]\n",
        "\n",
        "    return predicted_class"
      ],
      "execution_count": 11,
      "outputs": []
    },
    {
      "cell_type": "code",
      "metadata": {
        "colab": {
          "base_uri": "https://localhost:8080/"
        },
        "id": "ga8LRS1RXoWa",
        "outputId": "9e81f595-ba26-4ba0-d58a-451de9f61631"
      },
      "source": [
        "# ACURÁCIA\n",
        "train_predictions = get_predictions(nlp, x_train)\n",
        "test_predictions = get_predictions(nlp, x_test)\n",
        "\n",
        "train_accuracy = accuracy_score(y_train, train_predictions)\n",
        "test_accuracy = accuracy_score(y_test, test_predictions)\n",
        "\n",
        "print(f\"Train accuracy: {train_accuracy}\")\n",
        "print(f\"Test accuracy: {test_accuracy}\")"
      ],
      "execution_count": 12,
      "outputs": [
        {
          "output_type": "stream",
          "text": [
            "Train accuracy: 0.998928475756764\n",
            "Test accuracy: 0.9815116911364872\n"
          ],
          "name": "stdout"
        }
      ]
    },
    {
      "cell_type": "code",
      "metadata": {
        "colab": {
          "base_uri": "https://localhost:8080/",
          "height": 520
        },
        "id": "QaZ3yPTgXtLp",
        "outputId": "13894e37-9605-4988-b902-8e49b1f7a3f7"
      },
      "source": [
        "# Tentar confusão de treino\n",
        "print(\"TREINO:\")\n",
        "cf_train_matrix = confusion_matrix(y_train, train_predictions)\n",
        "plt.figure(figsize=(10,8))\n",
        "sns.heatmap(cf_train_matrix, annot=True, fmt='d')"
      ],
      "execution_count": 14,
      "outputs": [
        {
          "output_type": "stream",
          "text": [
            "TREINO:\n"
          ],
          "name": "stdout"
        },
        {
          "output_type": "execute_result",
          "data": {
            "text/plain": [
              "<matplotlib.axes._subplots.AxesSubplot at 0x7f7e69a31b10>"
            ]
          },
          "metadata": {
            "tags": []
          },
          "execution_count": 14
        },
        {
          "output_type": "display_data",
          "data": {
            "image/png": "[encoded data removed]",
            "text/plain": [
              "<Figure size 720x576 with 2 Axes>"
            ]
          },
          "metadata": {
            "tags": [],
            "needs_background": "light"
          }
        }
      ]
    },
    {
      "cell_type": "code",
      "metadata": {
        "colab": {
          "base_uri": "https://localhost:8080/",
          "height": 520
        },
        "id": "L2q9DZU-X1BJ",
        "outputId": "b5eaac72-2290-48a0-c1ac-839f84039f94"
      },
      "source": [
        "# Confusão de teste\n",
        "print(\"TESTE:\")\n",
        "cf_test_matrix = confusion_matrix(y_test, test_predictions)\n",
        "plt.figure(figsize=(10,8))\n",
        "sns.heatmap(cf_test_matrix, annot=True, fmt='d')"
      ],
      "execution_count": 13,
      "outputs": [
        {
          "output_type": "stream",
          "text": [
            "TESTE:\n"
          ],
          "name": "stdout"
        },
        {
          "output_type": "execute_result",
          "data": {
            "text/plain": [
              "<matplotlib.axes._subplots.AxesSubplot at 0x7f7e6b18cbd0>"
            ]
          },
          "metadata": {
            "tags": []
          },
          "execution_count": 13
        },
        {
          "output_type": "display_data",
          "data": {
            "image/png": "[encoded data removed]",
            "text/plain": [
              "<Figure size 720x576 with 2 Axes>"
            ]
          },
          "metadata": {
            "tags": [],
            "needs_background": "light"
          }
        }
      ]
    }
  ]
}